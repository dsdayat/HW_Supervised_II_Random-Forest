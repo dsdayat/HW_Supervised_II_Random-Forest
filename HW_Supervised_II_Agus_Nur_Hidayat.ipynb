{
  "cells": [
    {
      "cell_type": "markdown",
      "metadata": {
        "id": "view-in-github",
        "colab_type": "text"
      },
      "source": [
        "<a href=\"https://colab.research.google.com/github/dsdayat/HW_Supervised_II_Random-Forest/blob/main/HW_Supervised_II_Agus_Nur_Hidayat.ipynb\" target=\"_parent\"><img src=\"https://colab.research.google.com/assets/colab-badge.svg\" alt=\"Open In Colab\"/></a>"
      ]
    },
    {
      "cell_type": "markdown",
      "id": "40ec8b72",
      "metadata": {
        "id": "40ec8b72"
      },
      "source": [
        "# Supervised ML in Python: Homework"
      ]
    },
    {
      "cell_type": "code",
      "execution_count": 74,
      "id": "afa2cb8f",
      "metadata": {
        "id": "afa2cb8f"
      },
      "outputs": [],
      "source": [
        "import pandas as pd\n",
        "import numpy as np\n",
        "from sklearn.preprocessing import LabelEncoder\n",
        "import datetime\n",
        "from datetime import datetime\n",
        "\n",
        "from sklearn.model_selection import train_test_split\n",
        "from sklearn.ensemble import RandomForestClassifier\n",
        "from sklearn.metrics import accuracy_score\n",
        "from sklearn.metrics import classification_report\n",
        "from sklearn.metrics import confusion_matrix\n",
        "\n",
        "import matplotlib.pyplot as plt\n",
        "from sklearn.metrics import plot_roc_curve\n",
        "from sklearn.metrics import roc_auc_score\n",
        "\n",
        "from collections import Counter\n",
        "from imblearn.under_sampling import RandomUnderSampler\n",
        "import warnings\n",
        "warnings.simplefilter(action='ignore', category=FutureWarning)\n",
        "\n",
        "from collections import Counter\n",
        "from imblearn.over_sampling import SMOTE\n",
        "from imblearn.pipeline import Pipeline\n",
        "\n",
        "from sklearn.metrics import accuracy_score\n",
        "from sklearn.metrics import precision_score\n",
        "from sklearn.metrics import recall_score\n",
        "from sklearn.metrics import f1_score"
      ]
    },
    {
      "cell_type": "markdown",
      "id": "033474a6",
      "metadata": {
        "id": "033474a6"
      },
      "source": [
        "### Instruksi"
      ]
    },
    {
      "cell_type": "markdown",
      "id": "d1669940",
      "metadata": {
        "id": "d1669940"
      },
      "source": [
        "Load dan siapkan dataset dengan menjalankan cell-cell berikut."
      ]
    },
    {
      "cell_type": "code",
      "execution_count": 75,
      "id": "c52f96a7",
      "metadata": {
        "id": "c52f96a7"
      },
      "outputs": [],
      "source": [
        "df = pd.read_csv('supervised_ml_homework_data.csv')"
      ]
    },
    {
      "cell_type": "code",
      "source": [
        "df.head()"
      ],
      "metadata": {
        "colab": {
          "base_uri": "https://localhost:8080/",
          "height": 206
        },
        "id": "MxrLpVmCn3AA",
        "outputId": "473462c0-a764-4e51-d25a-75e0c9b118ea"
      },
      "id": "MxrLpVmCn3AA",
      "execution_count": 76,
      "outputs": [
        {
          "output_type": "execute_result",
          "data": {
            "text/plain": [
              "   initial_rate  length  width  height  speed  y\n",
              "0          0.12    5.87   7.31    9.61  24.47  0\n",
              "1          0.68    5.49   5.46    9.19  20.33  0\n",
              "2          1.86    6.03   5.89   10.75  22.60  0\n",
              "3          0.04    5.25   5.57   10.04  20.00  0\n",
              "4          0.28    6.63   6.17    9.90  21.74  0"
            ],
            "text/html": [
              "\n",
              "  <div id=\"df-f8c42df0-851a-4d3f-9251-fc3df1ffbfb3\">\n",
              "    <div class=\"colab-df-container\">\n",
              "      <div>\n",
              "<style scoped>\n",
              "    .dataframe tbody tr th:only-of-type {\n",
              "        vertical-align: middle;\n",
              "    }\n",
              "\n",
              "    .dataframe tbody tr th {\n",
              "        vertical-align: top;\n",
              "    }\n",
              "\n",
              "    .dataframe thead th {\n",
              "        text-align: right;\n",
              "    }\n",
              "</style>\n",
              "<table border=\"1\" class=\"dataframe\">\n",
              "  <thead>\n",
              "    <tr style=\"text-align: right;\">\n",
              "      <th></th>\n",
              "      <th>initial_rate</th>\n",
              "      <th>length</th>\n",
              "      <th>width</th>\n",
              "      <th>height</th>\n",
              "      <th>speed</th>\n",
              "      <th>y</th>\n",
              "    </tr>\n",
              "  </thead>\n",
              "  <tbody>\n",
              "    <tr>\n",
              "      <th>0</th>\n",
              "      <td>0.12</td>\n",
              "      <td>5.87</td>\n",
              "      <td>7.31</td>\n",
              "      <td>9.61</td>\n",
              "      <td>24.47</td>\n",
              "      <td>0</td>\n",
              "    </tr>\n",
              "    <tr>\n",
              "      <th>1</th>\n",
              "      <td>0.68</td>\n",
              "      <td>5.49</td>\n",
              "      <td>5.46</td>\n",
              "      <td>9.19</td>\n",
              "      <td>20.33</td>\n",
              "      <td>0</td>\n",
              "    </tr>\n",
              "    <tr>\n",
              "      <th>2</th>\n",
              "      <td>1.86</td>\n",
              "      <td>6.03</td>\n",
              "      <td>5.89</td>\n",
              "      <td>10.75</td>\n",
              "      <td>22.60</td>\n",
              "      <td>0</td>\n",
              "    </tr>\n",
              "    <tr>\n",
              "      <th>3</th>\n",
              "      <td>0.04</td>\n",
              "      <td>5.25</td>\n",
              "      <td>5.57</td>\n",
              "      <td>10.04</td>\n",
              "      <td>20.00</td>\n",
              "      <td>0</td>\n",
              "    </tr>\n",
              "    <tr>\n",
              "      <th>4</th>\n",
              "      <td>0.28</td>\n",
              "      <td>6.63</td>\n",
              "      <td>6.17</td>\n",
              "      <td>9.90</td>\n",
              "      <td>21.74</td>\n",
              "      <td>0</td>\n",
              "    </tr>\n",
              "  </tbody>\n",
              "</table>\n",
              "</div>\n",
              "      <button class=\"colab-df-convert\" onclick=\"convertToInteractive('df-f8c42df0-851a-4d3f-9251-fc3df1ffbfb3')\"\n",
              "              title=\"Convert this dataframe to an interactive table.\"\n",
              "              style=\"display:none;\">\n",
              "        \n",
              "  <svg xmlns=\"http://www.w3.org/2000/svg\" height=\"24px\"viewBox=\"0 0 24 24\"\n",
              "       width=\"24px\">\n",
              "    <path d=\"M0 0h24v24H0V0z\" fill=\"none\"/>\n",
              "    <path d=\"M18.56 5.44l.94 2.06.94-2.06 2.06-.94-2.06-.94-.94-2.06-.94 2.06-2.06.94zm-11 1L8.5 8.5l.94-2.06 2.06-.94-2.06-.94L8.5 2.5l-.94 2.06-2.06.94zm10 10l.94 2.06.94-2.06 2.06-.94-2.06-.94-.94-2.06-.94 2.06-2.06.94z\"/><path d=\"M17.41 7.96l-1.37-1.37c-.4-.4-.92-.59-1.43-.59-.52 0-1.04.2-1.43.59L10.3 9.45l-7.72 7.72c-.78.78-.78 2.05 0 2.83L4 21.41c.39.39.9.59 1.41.59.51 0 1.02-.2 1.41-.59l7.78-7.78 2.81-2.81c.8-.78.8-2.07 0-2.86zM5.41 20L4 18.59l7.72-7.72 1.47 1.35L5.41 20z\"/>\n",
              "  </svg>\n",
              "      </button>\n",
              "      \n",
              "  <style>\n",
              "    .colab-df-container {\n",
              "      display:flex;\n",
              "      flex-wrap:wrap;\n",
              "      gap: 12px;\n",
              "    }\n",
              "\n",
              "    .colab-df-convert {\n",
              "      background-color: #E8F0FE;\n",
              "      border: none;\n",
              "      border-radius: 50%;\n",
              "      cursor: pointer;\n",
              "      display: none;\n",
              "      fill: #1967D2;\n",
              "      height: 32px;\n",
              "      padding: 0 0 0 0;\n",
              "      width: 32px;\n",
              "    }\n",
              "\n",
              "    .colab-df-convert:hover {\n",
              "      background-color: #E2EBFA;\n",
              "      box-shadow: 0px 1px 2px rgba(60, 64, 67, 0.3), 0px 1px 3px 1px rgba(60, 64, 67, 0.15);\n",
              "      fill: #174EA6;\n",
              "    }\n",
              "\n",
              "    [theme=dark] .colab-df-convert {\n",
              "      background-color: #3B4455;\n",
              "      fill: #D2E3FC;\n",
              "    }\n",
              "\n",
              "    [theme=dark] .colab-df-convert:hover {\n",
              "      background-color: #434B5C;\n",
              "      box-shadow: 0px 1px 3px 1px rgba(0, 0, 0, 0.15);\n",
              "      filter: drop-shadow(0px 1px 2px rgba(0, 0, 0, 0.3));\n",
              "      fill: #FFFFFF;\n",
              "    }\n",
              "  </style>\n",
              "\n",
              "      <script>\n",
              "        const buttonEl =\n",
              "          document.querySelector('#df-f8c42df0-851a-4d3f-9251-fc3df1ffbfb3 button.colab-df-convert');\n",
              "        buttonEl.style.display =\n",
              "          google.colab.kernel.accessAllowed ? 'block' : 'none';\n",
              "\n",
              "        async function convertToInteractive(key) {\n",
              "          const element = document.querySelector('#df-f8c42df0-851a-4d3f-9251-fc3df1ffbfb3');\n",
              "          const dataTable =\n",
              "            await google.colab.kernel.invokeFunction('convertToInteractive',\n",
              "                                                     [key], {});\n",
              "          if (!dataTable) return;\n",
              "\n",
              "          const docLinkHtml = 'Like what you see? Visit the ' +\n",
              "            '<a target=\"_blank\" href=https://colab.research.google.com/notebooks/data_table.ipynb>data table notebook</a>'\n",
              "            + ' to learn more about interactive tables.';\n",
              "          element.innerHTML = '';\n",
              "          dataTable['output_type'] = 'display_data';\n",
              "          await google.colab.output.renderOutput(dataTable, element);\n",
              "          const docLink = document.createElement('div');\n",
              "          docLink.innerHTML = docLinkHtml;\n",
              "          element.appendChild(docLink);\n",
              "        }\n",
              "      </script>\n",
              "    </div>\n",
              "  </div>\n",
              "  "
            ]
          },
          "metadata": {},
          "execution_count": 76
        }
      ]
    },
    {
      "cell_type": "code",
      "execution_count": 77,
      "id": "94875204",
      "metadata": {
        "id": "94875204"
      },
      "outputs": [],
      "source": [
        "df_train, df_test = train_test_split(df, \n",
        "                                     test_size = 0.25, random_state = 1) \n",
        "\n",
        "x_train_data = df_train.loc[:, df_train.columns!='y']\n",
        "y_train_data = df_train.loc[:, df_train.columns=='y']\n",
        "\n",
        "x_test_data = df_test.loc[:, df_test.columns!='y']\n",
        "y_test_data = df_test.loc[:, df_test.columns=='y']"
      ]
    },
    {
      "cell_type": "code",
      "source": [
        "df.dtypes"
      ],
      "metadata": {
        "colab": {
          "base_uri": "https://localhost:8080/"
        },
        "id": "hq8fvH0BoeBH",
        "outputId": "e9977229-8f28-4894-933f-6ab77f1bc0d3"
      },
      "id": "hq8fvH0BoeBH",
      "execution_count": 78,
      "outputs": [
        {
          "output_type": "execute_result",
          "data": {
            "text/plain": [
              "initial_rate    float64\n",
              "length          float64\n",
              "width           float64\n",
              "height          float64\n",
              "speed           float64\n",
              "y                 int64\n",
              "dtype: object"
            ]
          },
          "metadata": {},
          "execution_count": 78
        }
      ]
    },
    {
      "cell_type": "markdown",
      "id": "0364e7f1",
      "metadata": {
        "id": "0364e7f1"
      },
      "source": [
        "Kemudian, lakukan langkah-langkah di bawah ini:\n",
        "1. Fit and evaluate Random Forest Classifier biasa\n",
        "2. Fit and evaluate Random Forest Classifier with Undersampling\n",
        "3. Fit and evaluate Random Forest Classifier with Oversampling\n",
        "4. Fit and evaluate Random Forest Classifier with Oversampling and Undersampling. \n",
        "5. Carilah nilai ideal ****berdasarkan F1-Score**** koefisien oversampling dan undersampling agar nilai F1-Score menjadi terbaik. \n",
        "\n",
        "\n",
        "Keterangan: cobalah nilai-nilai berikut\n",
        "\n",
        "`oversampling_coef = [0.2,0.4,0.5,0.6,0.8]`\n",
        "\n",
        "`undersampling_coef = [0.2,0.4,0.5,0.6,0.8]`"
      ]
    },
    {
      "cell_type": "markdown",
      "id": "a294405e",
      "metadata": {
        "id": "a294405e"
      },
      "source": [
        "### Soal"
      ]
    },
    {
      "cell_type": "markdown",
      "id": "e406abd4",
      "metadata": {
        "id": "e406abd4"
      },
      "source": [
        "1. Model dengan konfigurasi apa yang memiliki nilai recall terbaik?\n",
        "2. Model dengan konfigurasi apa yang memiliki nilai precision terbaik?\n",
        "3. Model dengan konfigurasi apa yang memiliki nilai F1-Score terbaik?\n",
        "\n",
        "Jawablah dengan lengkap, misalnya:\n",
        "\n",
        "- 'Model Random Forest biasa', atau\n",
        "\n",
        "- 'Model Random Forest dengan Undersampling saja', atau\n",
        "\n",
        "- 'Model Random Forest dengan Oversampling dan Undersampling dengan koefisien oversampling = 0.2 dan koefisien undersampling = 0.9'"
      ]
    },
    {
      "cell_type": "markdown",
      "id": "7456cfd6",
      "metadata": {
        "id": "7456cfd6"
      },
      "source": [
        "### Pengerjaan"
      ]
    },
    {
      "cell_type": "markdown",
      "source": [
        "# Radom Forest Model Biasa"
      ],
      "metadata": {
        "id": "NH9OK0o2zcv2"
      },
      "id": "NH9OK0o2zcv2"
    },
    {
      "cell_type": "code",
      "source": [
        "from sklearn.ensemble import RandomForestClassifier\n",
        "from sklearn.metrics import accuracy_score\n",
        "from sklearn.metrics import classification_report\n",
        "from sklearn.metrics import confusion_matrix"
      ],
      "metadata": {
        "id": "MDLhfsXFqKit"
      },
      "id": "MDLhfsXFqKit",
      "execution_count": 79,
      "outputs": []
    },
    {
      "cell_type": "code",
      "source": [
        "def evaluate(model, x_test = x_test_data, y_test = y_test_data):\n",
        "    y_pred = model.predict(x_test)    \n",
        "    print('Accuracy:', accuracy_score(y_test, y_pred))\n",
        "    print('------')\n",
        "    print('Confusion Matrix:')\n",
        "    print()\n",
        "    print(classification_report(y_test, y_pred))\n",
        "    print('------')\n",
        "    \n",
        "    tn, fp, fn, tp = confusion_matrix(y_test, y_pred).ravel()\n",
        "    print('Assuming 1 as positive, we get:')\n",
        "    print('')\n",
        "    print('True Positive:', tp)\n",
        "    print('True Negative:', tn)\n",
        "    print('False Positive:', fp)\n",
        "    print('False Negative:', fn)\n",
        "    \n",
        "    print('')\n",
        "    \n",
        "    precision = tp/(tp+fp)\n",
        "    recall = tp/(tp+fn)\n",
        "    \n",
        "    print('Precision:', precision)\n",
        "    print('Recall:', recall)\n",
        "    print('F1-Score:', 2 * (precision * recall)/(precision + recall))\n",
        "    "
      ],
      "metadata": {
        "id": "xtzTXXrGqHc9"
      },
      "id": "xtzTXXrGqHc9",
      "execution_count": 80,
      "outputs": []
    },
    {
      "cell_type": "code",
      "execution_count": 81,
      "id": "7cc7bbd0",
      "metadata": {
        "id": "7cc7bbd0",
        "colab": {
          "base_uri": "https://localhost:8080/"
        },
        "outputId": "63ba9aa1-c4ba-4e73-ebc3-2d740df06cc7"
      },
      "outputs": [
        {
          "output_type": "stream",
          "name": "stdout",
          "text": [
            "Accuracy: 0.952\n",
            "------\n",
            "Confusion Matrix:\n",
            "\n",
            "              precision    recall  f1-score   support\n",
            "\n",
            "           0       0.96      0.98      0.97      1130\n",
            "           1       0.81      0.66      0.72       120\n",
            "\n",
            "    accuracy                           0.95      1250\n",
            "   macro avg       0.89      0.82      0.85      1250\n",
            "weighted avg       0.95      0.95      0.95      1250\n",
            "\n",
            "------\n",
            "Assuming 1 as positive, we get:\n",
            "\n",
            "True Positive: 79\n",
            "True Negative: 1111\n",
            "False Positive: 19\n",
            "False Negative: 41\n",
            "\n",
            "Precision: 0.8061224489795918\n",
            "Recall: 0.6583333333333333\n",
            "F1-Score: 0.7247706422018348\n"
          ]
        }
      ],
      "source": [
        "### Base Model\n",
        "base_model = RandomForestClassifier(random_state = 1, n_jobs = -1)\n",
        "base_model.fit(x_train_data, y_train_data)\n",
        "evaluate(base_model)"
      ]
    },
    {
      "cell_type": "markdown",
      "source": [
        "*Accuracy is quite high (0.952), Precission is quite good, recall is enough, and the F1-Score is moderate okkay*. \n",
        "\n",
        "remark :\n",
        "- Mau mengurangi false negative >> pilih yg recall nya tinggi\n",
        "- Mau mengurangi false positive >> pilih yg precisionnya tinggi\n",
        "- Kalau mau balanced >> pilih yg F1-Score nya tinggi\n",
        "\n",
        "- False Negetive stiil higher than false positive"
      ],
      "metadata": {
        "id": "gDRhXwccwJrw"
      },
      "id": "gDRhXwccwJrw"
    },
    {
      "cell_type": "markdown",
      "source": [
        "# Random Forest Model Undersampling\n",
        "- digunakan ketika model overfitting"
      ],
      "metadata": {
        "id": "7SFPN1uVzVkH"
      },
      "id": "7SFPN1uVzVkH"
    },
    {
      "cell_type": "code",
      "source": [
        "# import random undersampling library \n",
        "from collections import Counter\n",
        "from imblearn.under_sampling import RandomUnderSampler\n",
        "import warnings\n",
        "warnings.simplefilter(action='ignore', category=FutureWarning)\n",
        "\n",
        "# summarize class distribution\n",
        "print(Counter(y_train_data['y']))\n",
        "\n",
        "# summarize class distribution\n",
        "print(Counter(y_train_under['y']))"
      ],
      "metadata": {
        "colab": {
          "base_uri": "https://localhost:8080/"
        },
        "id": "xQOrLHvqzwLm",
        "outputId": "db98b72a-1eb2-42eb-c947-97bbe4f4164b"
      },
      "id": "xQOrLHvqzwLm",
      "execution_count": 82,
      "outputs": [
        {
          "output_type": "stream",
          "name": "stdout",
          "text": [
            "Counter({0: 3371, 1: 379})\n",
            "Counter({0: 379, 1: 379})\n"
          ]
        }
      ]
    },
    {
      "cell_type": "code",
      "execution_count": 83,
      "id": "29e5faa2",
      "metadata": {
        "id": "29e5faa2"
      },
      "outputs": [],
      "source": [
        "### Undersampled Model \n",
        "# define undersample strategy\n",
        "undersample = RandomUnderSampler(sampling_strategy='majority',)\n",
        "# fit and apply the transform\n",
        "x_train_under, y_train_under = undersample.fit_resample(x_train_data, \n",
        "                                                        y_train_data) #silakan dilanjutkan\n",
        "\n",
        "under_model = RandomForestClassifier(random_state = 1)"
      ]
    },
    {
      "cell_type": "code",
      "source": [
        "#Fit Model\n",
        "under_model.fit(x_train_under, y_train_under)\n",
        "#evaluation Model\n",
        "evaluate(under_model, x_test_data, y_test_data)"
      ],
      "metadata": {
        "colab": {
          "base_uri": "https://localhost:8080/"
        },
        "id": "lE9p5oX-0JSH",
        "outputId": "ce87ffc0-68d5-4a9d-c1bc-409ca0767dd0"
      },
      "id": "lE9p5oX-0JSH",
      "execution_count": 84,
      "outputs": [
        {
          "output_type": "stream",
          "name": "stdout",
          "text": [
            "Accuracy: 0.892\n",
            "------\n",
            "Confusion Matrix:\n",
            "\n",
            "              precision    recall  f1-score   support\n",
            "\n",
            "           0       1.00      0.88      0.94      1130\n",
            "           1       0.47      0.97      0.63       120\n",
            "\n",
            "    accuracy                           0.89      1250\n",
            "   macro avg       0.73      0.93      0.78      1250\n",
            "weighted avg       0.95      0.89      0.91      1250\n",
            "\n",
            "------\n",
            "Assuming 1 as positive, we get:\n",
            "\n",
            "True Positive: 116\n",
            "True Negative: 999\n",
            "False Positive: 131\n",
            "False Negative: 4\n",
            "\n",
            "Precision: 0.46963562753036436\n",
            "Recall: 0.9666666666666667\n",
            "F1-Score: 0.6321525885558582\n"
          ]
        }
      ]
    },
    {
      "cell_type": "markdown",
      "source": [
        "*The Accuracy is Good (0.8912), The Recall is quite high But The Precission is poor. So the F1 Score is in the lower of enough level*\n",
        "\n",
        "---\n",
        "\n",
        "\n",
        "\n",
        "- False Positive Extremely Increased, False Negative decreased"
      ],
      "metadata": {
        "id": "edlI9x8I0-Ue"
      },
      "id": "edlI9x8I0-Ue"
    },
    {
      "cell_type": "markdown",
      "source": [
        "# Random Forest model Oversampling\n",
        "- digunakan ketika model underfitting"
      ],
      "metadata": {
        "id": "sPh_7xEE12af"
      },
      "id": "sPh_7xEE12af"
    },
    {
      "cell_type": "code",
      "source": [
        "# import random undersampling library \n",
        "from collections import Counter\n",
        "from imblearn.over_sampling import SMOTE\n",
        "import warnings\n",
        "warnings.simplefilter(action='ignore', category=FutureWarning)\n",
        "\n",
        "# summarize class distribution\n",
        "print(Counter(y_train_data['y']))\n",
        "\n",
        "# summarize class distribution\n",
        "print(Counter(y_train_SMOTE['y']))"
      ],
      "metadata": {
        "colab": {
          "base_uri": "https://localhost:8080/"
        },
        "id": "QSeVlUy633UG",
        "outputId": "8a9115da-99a5-414f-8c86-cbca623908fb"
      },
      "id": "QSeVlUy633UG",
      "execution_count": 85,
      "outputs": [
        {
          "output_type": "stream",
          "name": "stdout",
          "text": [
            "Counter({0: 3371, 1: 379})\n",
            "Counter({0: 3371, 1: 3371})\n"
          ]
        }
      ]
    },
    {
      "cell_type": "code",
      "execution_count": 86,
      "id": "4d1d7c2a",
      "metadata": {
        "id": "4d1d7c2a",
        "colab": {
          "base_uri": "https://localhost:8080/"
        },
        "outputId": "29901ca5-b6c0-40c5-da98-de9d725965a7"
      },
      "outputs": [
        {
          "output_type": "stream",
          "name": "stdout",
          "text": [
            "Accuracy: 0.9328\n",
            "------\n",
            "Confusion Matrix:\n",
            "\n",
            "              precision    recall  f1-score   support\n",
            "\n",
            "           0       0.98      0.94      0.96      1130\n",
            "           1       0.61      0.82      0.70       120\n",
            "\n",
            "    accuracy                           0.93      1250\n",
            "   macro avg       0.80      0.88      0.83      1250\n",
            "weighted avg       0.95      0.93      0.94      1250\n",
            "\n",
            "------\n",
            "Assuming 1 as positive, we get:\n",
            "\n",
            "True Positive: 99\n",
            "True Negative: 1067\n",
            "False Positive: 63\n",
            "False Negative: 21\n",
            "\n",
            "Precision: 0.6111111111111112\n",
            "Recall: 0.825\n",
            "F1-Score: 0.7021276595744681\n"
          ]
        }
      ],
      "source": [
        "### Oversampled Model # define undersample strategy\n",
        "SMOTE = SMOTE(random_state = 1)\n",
        "\n",
        "# fit and apply the transform\n",
        "x_train_SMOTE, y_train_SMOTE = SMOTE.fit_resample(x_train_data, y_train_data)\n",
        "over_model = RandomForestClassifier(n_jobs = -1)\n",
        "over_model.fit(x_train_SMOTE, y_train_SMOTE)\n",
        "\n",
        "#Evaluate Model\n",
        "evaluate(over_model, x_test_data, y_test_data)"
      ]
    },
    {
      "cell_type": "markdown",
      "source": [
        "*The Accuracy is quite high (0.9352), The Recall is Good (0.83) But The Precission is in lower of enough level (0.62). and the F1 Score is enough*\n",
        "- False Postive Increased, False negative Decreased\n"
      ],
      "metadata": {
        "id": "pB70GWihDCln"
      },
      "id": "pB70GWihDCln"
    },
    {
      "cell_type": "markdown",
      "source": [
        "# Random Forest Classifier Model Combining  (Oversampling and Undersampling)"
      ],
      "metadata": {
        "id": "eTl7LRfuEhc1"
      },
      "id": "eTl7LRfuEhc1"
    },
    {
      "cell_type": "code",
      "execution_count": 87,
      "id": "ebbeb891",
      "metadata": {
        "id": "ebbeb891"
      },
      "outputs": [],
      "source": [
        "### Combined Model\n",
        "### silakan dilanjutkan\n",
        "### ingat, untuk model, untuk undersampler, dan oversampler...\n",
        "### ...random_state = 1. "
      ]
    },
    {
      "cell_type": "code",
      "source": [
        "# import needed libraries \n",
        "from imblearn.pipeline import Pipeline\n",
        "from imblearn.under_sampling import RandomUnderSampler\n",
        "from imblearn.over_sampling import SMOTE\n",
        "\n",
        "# define pipeline\n",
        "combined_model = RandomForestClassifier(random_state = 1, n_jobs = -1)\n",
        "over = SMOTE(sampling_strategy=0.2)\n",
        "under = RandomUnderSampler(sampling_strategy=0.2)\n",
        "steps = [('o', over), ('u', under), ('model', combined_model)]\n",
        "pipeline = Pipeline(steps=steps)\n",
        "\n",
        "# evaluate pipeline\n",
        "pipeline.fit(x_train_data, y_train_data)\n",
        "evaluate(pipeline, x_test_data, y_test_data)"
      ],
      "metadata": {
        "colab": {
          "base_uri": "https://localhost:8080/"
        },
        "id": "ClD4V4RoEgyO",
        "outputId": "3ea8ebb6-b045-4576-c346-2ff4a9244668"
      },
      "id": "ClD4V4RoEgyO",
      "execution_count": 88,
      "outputs": [
        {
          "output_type": "stream",
          "name": "stdout",
          "text": [
            "Accuracy: 0.9536\n",
            "------\n",
            "Confusion Matrix:\n",
            "\n",
            "              precision    recall  f1-score   support\n",
            "\n",
            "           0       0.97      0.98      0.97      1130\n",
            "           1       0.77      0.73      0.75       120\n",
            "\n",
            "    accuracy                           0.95      1250\n",
            "   macro avg       0.87      0.86      0.86      1250\n",
            "weighted avg       0.95      0.95      0.95      1250\n",
            "\n",
            "------\n",
            "Assuming 1 as positive, we get:\n",
            "\n",
            "True Positive: 88\n",
            "True Negative: 1104\n",
            "False Positive: 26\n",
            "False Negative: 32\n",
            "\n",
            "Precision: 0.7719298245614035\n",
            "Recall: 0.7333333333333333\n",
            "F1-Score: 0.7521367521367521\n"
          ]
        }
      ]
    },
    {
      "cell_type": "markdown",
      "source": [
        "*The Accuracy is quite high (0.9448), The Recall is Good (0.81) But The Precission is in lower of enough level (0.62). and the F1 Score is enough*\n",
        "\n",
        "- Random Forest Combined model Undersampling and Undersampling has **the highest F1 Score (0.75)** than other  model\n",
        "- False Postive Increased, False negative Decreased"
      ],
      "metadata": {
        "id": "GRHQJJ0fW9XK"
      },
      "id": "GRHQJJ0fW9XK"
    },
    {
      "cell_type": "markdown",
      "id": "27412cce",
      "metadata": {
        "id": "27412cce"
      },
      "source": [
        "### Jawaban"
      ]
    },
    {
      "cell_type": "markdown",
      "id": "e43010d1",
      "metadata": {
        "id": "e43010d1"
      },
      "source": [
        "1. Model dengan konfigurasi apa yang memiliki nilai recall terbaik?\n",
        "\n",
        "Jawab: *Random Forest Model Undersampling*\n",
        "\n",
        "\n",
        "2. Model dengan konfigurasi apa yang memiliki nilai precision terbaik?\n",
        "\n",
        "Jawab: *Random Forest Model biasa*\n",
        "\n",
        "\n",
        "3. Model dengan konfigurasi apa yang memiliki nilai F1-Score terbaik?\n",
        "\n",
        "Jawab: *Random Forest Classifier Model Combining  (Oversampling and Undersampling)* dengan over_coef = 0.2 dan under_coef = 0.2\n",
        "(berdasarkan data dibawah)"
      ]
    },
    {
      "cell_type": "code",
      "execution_count": 89,
      "id": "eba03ba8",
      "metadata": {
        "id": "eba03ba8",
        "colab": {
          "base_uri": "https://localhost:8080/"
        },
        "outputId": "c4a924ad-b3d6-4c80-a30b-930405e7152b"
      },
      "outputs": [
        {
          "output_type": "stream",
          "name": "stderr",
          "text": [
            "100%|██████████| 5/5 [00:10<00:00,  2.09s/it]\n"
          ]
        }
      ],
      "source": [
        "from sklearn.metrics import accuracy_score\n",
        "from sklearn.metrics import precision_score\n",
        "from sklearn.metrics import recall_score\n",
        "from sklearn.metrics import f1_score\n",
        "from tqdm import tqdm\n",
        "\n",
        "import warnings\n",
        "warnings.simplefilter(action='ignore')\n",
        "\n",
        "oversampling_coef = [0.2,0.4,0.5,0.6,0.8]\n",
        "\n",
        "undersampling_coef = [0.2,0.4,0.5,0.6,0.8]\n",
        "\n",
        "result = {\n",
        "    'over_coef':[],\n",
        "    'under_coef':[],\n",
        "    'acc':[],\n",
        "    'prec':[],\n",
        "    'recall':[],\n",
        "    'f1':[]\n",
        "}\n",
        "\n",
        "for over_score in tqdm(oversampling_coef):\n",
        "    for under_score in undersampling_coef:\n",
        "        try:\n",
        "            combined_model = RandomForestClassifier(random_state = 1, n_jobs = -1)\n",
        "            over = SMOTE(sampling_strategy = over_score)\n",
        "            under = RandomUnderSampler(sampling_strategy = under_score)\n",
        "            steps = [('o', over), ('u', under), ('model', combined_model)]\n",
        "            pipeline = Pipeline(steps = steps)\n",
        "\n",
        "            pipeline.fit(x_train_data, y_train_data)\n",
        "            y_pred = pipeline.predict(x_test_data)\n",
        "\n",
        "            result['over_coef'].append(over_score)\n",
        "            result['under_coef'].append(under_score)\n",
        "            result['acc'].append(accuracy_score(y_test_data, y_pred))\n",
        "            result['prec'].append(precision_score(y_test_data, y_pred))\n",
        "            result['recall'].append(recall_score(y_test_data, y_pred))\n",
        "            result['f1'].append(f1_score(y_test_data, y_pred))\n",
        "        except:\n",
        "            pass"
      ]
    },
    {
      "cell_type": "code",
      "execution_count": 90,
      "id": "b60013c3",
      "metadata": {
        "id": "b60013c3",
        "colab": {
          "base_uri": "https://localhost:8080/",
          "height": 519
        },
        "outputId": "5a4c965d-f339-45fc-931b-293f2a319519"
      },
      "outputs": [
        {
          "output_type": "execute_result",
          "data": {
            "text/plain": [
              "    over_coef  under_coef     acc      prec    recall        f1\n",
              "0         0.2         0.2  0.9560  0.768595  0.775000  0.771784\n",
              "1         0.2         0.4  0.9408  0.647436  0.841667  0.731884\n",
              "2         0.2         0.5  0.9376  0.625000  0.875000  0.729167\n",
              "3         0.2         0.6  0.9304  0.592179  0.883333  0.709030\n",
              "4         0.2         0.8  0.9224  0.557789  0.925000  0.695925\n",
              "5         0.4         0.4  0.9472  0.701493  0.783333  0.740157\n",
              "6         0.4         0.5  0.9408  0.649351  0.833333  0.729927\n",
              "7         0.4         0.6  0.9416  0.655629  0.825000  0.730627\n",
              "8         0.4         0.8  0.9344  0.610465  0.875000  0.719178\n",
              "9         0.5         0.5  0.9432  0.676259  0.783333  0.725869\n",
              "10        0.5         0.6  0.9400  0.645161  0.833333  0.727273\n",
              "11        0.5         0.8  0.9344  0.614458  0.850000  0.713287\n",
              "12        0.6         0.6  0.9424  0.666667  0.800000  0.727273\n",
              "13        0.6         0.8  0.9312  0.601190  0.841667  0.701389\n",
              "14        0.8         0.8  0.9328  0.612500  0.816667  0.700000"
            ],
            "text/html": [
              "\n",
              "  <div id=\"df-3c64accf-e71b-4488-9c87-84fa887af7af\">\n",
              "    <div class=\"colab-df-container\">\n",
              "      <div>\n",
              "<style scoped>\n",
              "    .dataframe tbody tr th:only-of-type {\n",
              "        vertical-align: middle;\n",
              "    }\n",
              "\n",
              "    .dataframe tbody tr th {\n",
              "        vertical-align: top;\n",
              "    }\n",
              "\n",
              "    .dataframe thead th {\n",
              "        text-align: right;\n",
              "    }\n",
              "</style>\n",
              "<table border=\"1\" class=\"dataframe\">\n",
              "  <thead>\n",
              "    <tr style=\"text-align: right;\">\n",
              "      <th></th>\n",
              "      <th>over_coef</th>\n",
              "      <th>under_coef</th>\n",
              "      <th>acc</th>\n",
              "      <th>prec</th>\n",
              "      <th>recall</th>\n",
              "      <th>f1</th>\n",
              "    </tr>\n",
              "  </thead>\n",
              "  <tbody>\n",
              "    <tr>\n",
              "      <th>0</th>\n",
              "      <td>0.2</td>\n",
              "      <td>0.2</td>\n",
              "      <td>0.9560</td>\n",
              "      <td>0.768595</td>\n",
              "      <td>0.775000</td>\n",
              "      <td>0.771784</td>\n",
              "    </tr>\n",
              "    <tr>\n",
              "      <th>1</th>\n",
              "      <td>0.2</td>\n",
              "      <td>0.4</td>\n",
              "      <td>0.9408</td>\n",
              "      <td>0.647436</td>\n",
              "      <td>0.841667</td>\n",
              "      <td>0.731884</td>\n",
              "    </tr>\n",
              "    <tr>\n",
              "      <th>2</th>\n",
              "      <td>0.2</td>\n",
              "      <td>0.5</td>\n",
              "      <td>0.9376</td>\n",
              "      <td>0.625000</td>\n",
              "      <td>0.875000</td>\n",
              "      <td>0.729167</td>\n",
              "    </tr>\n",
              "    <tr>\n",
              "      <th>3</th>\n",
              "      <td>0.2</td>\n",
              "      <td>0.6</td>\n",
              "      <td>0.9304</td>\n",
              "      <td>0.592179</td>\n",
              "      <td>0.883333</td>\n",
              "      <td>0.709030</td>\n",
              "    </tr>\n",
              "    <tr>\n",
              "      <th>4</th>\n",
              "      <td>0.2</td>\n",
              "      <td>0.8</td>\n",
              "      <td>0.9224</td>\n",
              "      <td>0.557789</td>\n",
              "      <td>0.925000</td>\n",
              "      <td>0.695925</td>\n",
              "    </tr>\n",
              "    <tr>\n",
              "      <th>5</th>\n",
              "      <td>0.4</td>\n",
              "      <td>0.4</td>\n",
              "      <td>0.9472</td>\n",
              "      <td>0.701493</td>\n",
              "      <td>0.783333</td>\n",
              "      <td>0.740157</td>\n",
              "    </tr>\n",
              "    <tr>\n",
              "      <th>6</th>\n",
              "      <td>0.4</td>\n",
              "      <td>0.5</td>\n",
              "      <td>0.9408</td>\n",
              "      <td>0.649351</td>\n",
              "      <td>0.833333</td>\n",
              "      <td>0.729927</td>\n",
              "    </tr>\n",
              "    <tr>\n",
              "      <th>7</th>\n",
              "      <td>0.4</td>\n",
              "      <td>0.6</td>\n",
              "      <td>0.9416</td>\n",
              "      <td>0.655629</td>\n",
              "      <td>0.825000</td>\n",
              "      <td>0.730627</td>\n",
              "    </tr>\n",
              "    <tr>\n",
              "      <th>8</th>\n",
              "      <td>0.4</td>\n",
              "      <td>0.8</td>\n",
              "      <td>0.9344</td>\n",
              "      <td>0.610465</td>\n",
              "      <td>0.875000</td>\n",
              "      <td>0.719178</td>\n",
              "    </tr>\n",
              "    <tr>\n",
              "      <th>9</th>\n",
              "      <td>0.5</td>\n",
              "      <td>0.5</td>\n",
              "      <td>0.9432</td>\n",
              "      <td>0.676259</td>\n",
              "      <td>0.783333</td>\n",
              "      <td>0.725869</td>\n",
              "    </tr>\n",
              "    <tr>\n",
              "      <th>10</th>\n",
              "      <td>0.5</td>\n",
              "      <td>0.6</td>\n",
              "      <td>0.9400</td>\n",
              "      <td>0.645161</td>\n",
              "      <td>0.833333</td>\n",
              "      <td>0.727273</td>\n",
              "    </tr>\n",
              "    <tr>\n",
              "      <th>11</th>\n",
              "      <td>0.5</td>\n",
              "      <td>0.8</td>\n",
              "      <td>0.9344</td>\n",
              "      <td>0.614458</td>\n",
              "      <td>0.850000</td>\n",
              "      <td>0.713287</td>\n",
              "    </tr>\n",
              "    <tr>\n",
              "      <th>12</th>\n",
              "      <td>0.6</td>\n",
              "      <td>0.6</td>\n",
              "      <td>0.9424</td>\n",
              "      <td>0.666667</td>\n",
              "      <td>0.800000</td>\n",
              "      <td>0.727273</td>\n",
              "    </tr>\n",
              "    <tr>\n",
              "      <th>13</th>\n",
              "      <td>0.6</td>\n",
              "      <td>0.8</td>\n",
              "      <td>0.9312</td>\n",
              "      <td>0.601190</td>\n",
              "      <td>0.841667</td>\n",
              "      <td>0.701389</td>\n",
              "    </tr>\n",
              "    <tr>\n",
              "      <th>14</th>\n",
              "      <td>0.8</td>\n",
              "      <td>0.8</td>\n",
              "      <td>0.9328</td>\n",
              "      <td>0.612500</td>\n",
              "      <td>0.816667</td>\n",
              "      <td>0.700000</td>\n",
              "    </tr>\n",
              "  </tbody>\n",
              "</table>\n",
              "</div>\n",
              "      <button class=\"colab-df-convert\" onclick=\"convertToInteractive('df-3c64accf-e71b-4488-9c87-84fa887af7af')\"\n",
              "              title=\"Convert this dataframe to an interactive table.\"\n",
              "              style=\"display:none;\">\n",
              "        \n",
              "  <svg xmlns=\"http://www.w3.org/2000/svg\" height=\"24px\"viewBox=\"0 0 24 24\"\n",
              "       width=\"24px\">\n",
              "    <path d=\"M0 0h24v24H0V0z\" fill=\"none\"/>\n",
              "    <path d=\"M18.56 5.44l.94 2.06.94-2.06 2.06-.94-2.06-.94-.94-2.06-.94 2.06-2.06.94zm-11 1L8.5 8.5l.94-2.06 2.06-.94-2.06-.94L8.5 2.5l-.94 2.06-2.06.94zm10 10l.94 2.06.94-2.06 2.06-.94-2.06-.94-.94-2.06-.94 2.06-2.06.94z\"/><path d=\"M17.41 7.96l-1.37-1.37c-.4-.4-.92-.59-1.43-.59-.52 0-1.04.2-1.43.59L10.3 9.45l-7.72 7.72c-.78.78-.78 2.05 0 2.83L4 21.41c.39.39.9.59 1.41.59.51 0 1.02-.2 1.41-.59l7.78-7.78 2.81-2.81c.8-.78.8-2.07 0-2.86zM5.41 20L4 18.59l7.72-7.72 1.47 1.35L5.41 20z\"/>\n",
              "  </svg>\n",
              "      </button>\n",
              "      \n",
              "  <style>\n",
              "    .colab-df-container {\n",
              "      display:flex;\n",
              "      flex-wrap:wrap;\n",
              "      gap: 12px;\n",
              "    }\n",
              "\n",
              "    .colab-df-convert {\n",
              "      background-color: #E8F0FE;\n",
              "      border: none;\n",
              "      border-radius: 50%;\n",
              "      cursor: pointer;\n",
              "      display: none;\n",
              "      fill: #1967D2;\n",
              "      height: 32px;\n",
              "      padding: 0 0 0 0;\n",
              "      width: 32px;\n",
              "    }\n",
              "\n",
              "    .colab-df-convert:hover {\n",
              "      background-color: #E2EBFA;\n",
              "      box-shadow: 0px 1px 2px rgba(60, 64, 67, 0.3), 0px 1px 3px 1px rgba(60, 64, 67, 0.15);\n",
              "      fill: #174EA6;\n",
              "    }\n",
              "\n",
              "    [theme=dark] .colab-df-convert {\n",
              "      background-color: #3B4455;\n",
              "      fill: #D2E3FC;\n",
              "    }\n",
              "\n",
              "    [theme=dark] .colab-df-convert:hover {\n",
              "      background-color: #434B5C;\n",
              "      box-shadow: 0px 1px 3px 1px rgba(0, 0, 0, 0.15);\n",
              "      filter: drop-shadow(0px 1px 2px rgba(0, 0, 0, 0.3));\n",
              "      fill: #FFFFFF;\n",
              "    }\n",
              "  </style>\n",
              "\n",
              "      <script>\n",
              "        const buttonEl =\n",
              "          document.querySelector('#df-3c64accf-e71b-4488-9c87-84fa887af7af button.colab-df-convert');\n",
              "        buttonEl.style.display =\n",
              "          google.colab.kernel.accessAllowed ? 'block' : 'none';\n",
              "\n",
              "        async function convertToInteractive(key) {\n",
              "          const element = document.querySelector('#df-3c64accf-e71b-4488-9c87-84fa887af7af');\n",
              "          const dataTable =\n",
              "            await google.colab.kernel.invokeFunction('convertToInteractive',\n",
              "                                                     [key], {});\n",
              "          if (!dataTable) return;\n",
              "\n",
              "          const docLinkHtml = 'Like what you see? Visit the ' +\n",
              "            '<a target=\"_blank\" href=https://colab.research.google.com/notebooks/data_table.ipynb>data table notebook</a>'\n",
              "            + ' to learn more about interactive tables.';\n",
              "          element.innerHTML = '';\n",
              "          dataTable['output_type'] = 'display_data';\n",
              "          await google.colab.output.renderOutput(dataTable, element);\n",
              "          const docLink = document.createElement('div');\n",
              "          docLink.innerHTML = docLinkHtml;\n",
              "          element.appendChild(docLink);\n",
              "        }\n",
              "      </script>\n",
              "    </div>\n",
              "  </div>\n",
              "  "
            ]
          },
          "metadata": {},
          "execution_count": 90
        }
      ],
      "source": [
        "df_result = pd.DataFrame(result)\n",
        "df_result"
      ]
    },
    {
      "cell_type": "code",
      "execution_count": 91,
      "id": "da7e0e5b",
      "metadata": {
        "id": "da7e0e5b",
        "colab": {
          "base_uri": "https://localhost:8080/",
          "height": 519
        },
        "outputId": "62a4de9c-5392-4fe9-e6de-940dc55e7270"
      },
      "outputs": [
        {
          "output_type": "execute_result",
          "data": {
            "text/plain": [
              "    over_coef  under_coef     acc      prec    recall        f1\n",
              "4         0.2         0.8  0.9224  0.557789  0.925000  0.695925\n",
              "3         0.2         0.6  0.9304  0.592179  0.883333  0.709030\n",
              "2         0.2         0.5  0.9376  0.625000  0.875000  0.729167\n",
              "8         0.4         0.8  0.9344  0.610465  0.875000  0.719178\n",
              "11        0.5         0.8  0.9344  0.614458  0.850000  0.713287\n",
              "1         0.2         0.4  0.9408  0.647436  0.841667  0.731884\n",
              "13        0.6         0.8  0.9312  0.601190  0.841667  0.701389\n",
              "6         0.4         0.5  0.9408  0.649351  0.833333  0.729927\n",
              "10        0.5         0.6  0.9400  0.645161  0.833333  0.727273\n",
              "7         0.4         0.6  0.9416  0.655629  0.825000  0.730627\n",
              "14        0.8         0.8  0.9328  0.612500  0.816667  0.700000\n",
              "12        0.6         0.6  0.9424  0.666667  0.800000  0.727273\n",
              "5         0.4         0.4  0.9472  0.701493  0.783333  0.740157\n",
              "9         0.5         0.5  0.9432  0.676259  0.783333  0.725869\n",
              "0         0.2         0.2  0.9560  0.768595  0.775000  0.771784"
            ],
            "text/html": [
              "\n",
              "  <div id=\"df-219cec62-986c-461a-90ea-38e39e6ba85c\">\n",
              "    <div class=\"colab-df-container\">\n",
              "      <div>\n",
              "<style scoped>\n",
              "    .dataframe tbody tr th:only-of-type {\n",
              "        vertical-align: middle;\n",
              "    }\n",
              "\n",
              "    .dataframe tbody tr th {\n",
              "        vertical-align: top;\n",
              "    }\n",
              "\n",
              "    .dataframe thead th {\n",
              "        text-align: right;\n",
              "    }\n",
              "</style>\n",
              "<table border=\"1\" class=\"dataframe\">\n",
              "  <thead>\n",
              "    <tr style=\"text-align: right;\">\n",
              "      <th></th>\n",
              "      <th>over_coef</th>\n",
              "      <th>under_coef</th>\n",
              "      <th>acc</th>\n",
              "      <th>prec</th>\n",
              "      <th>recall</th>\n",
              "      <th>f1</th>\n",
              "    </tr>\n",
              "  </thead>\n",
              "  <tbody>\n",
              "    <tr>\n",
              "      <th>4</th>\n",
              "      <td>0.2</td>\n",
              "      <td>0.8</td>\n",
              "      <td>0.9224</td>\n",
              "      <td>0.557789</td>\n",
              "      <td>0.925000</td>\n",
              "      <td>0.695925</td>\n",
              "    </tr>\n",
              "    <tr>\n",
              "      <th>3</th>\n",
              "      <td>0.2</td>\n",
              "      <td>0.6</td>\n",
              "      <td>0.9304</td>\n",
              "      <td>0.592179</td>\n",
              "      <td>0.883333</td>\n",
              "      <td>0.709030</td>\n",
              "    </tr>\n",
              "    <tr>\n",
              "      <th>2</th>\n",
              "      <td>0.2</td>\n",
              "      <td>0.5</td>\n",
              "      <td>0.9376</td>\n",
              "      <td>0.625000</td>\n",
              "      <td>0.875000</td>\n",
              "      <td>0.729167</td>\n",
              "    </tr>\n",
              "    <tr>\n",
              "      <th>8</th>\n",
              "      <td>0.4</td>\n",
              "      <td>0.8</td>\n",
              "      <td>0.9344</td>\n",
              "      <td>0.610465</td>\n",
              "      <td>0.875000</td>\n",
              "      <td>0.719178</td>\n",
              "    </tr>\n",
              "    <tr>\n",
              "      <th>11</th>\n",
              "      <td>0.5</td>\n",
              "      <td>0.8</td>\n",
              "      <td>0.9344</td>\n",
              "      <td>0.614458</td>\n",
              "      <td>0.850000</td>\n",
              "      <td>0.713287</td>\n",
              "    </tr>\n",
              "    <tr>\n",
              "      <th>1</th>\n",
              "      <td>0.2</td>\n",
              "      <td>0.4</td>\n",
              "      <td>0.9408</td>\n",
              "      <td>0.647436</td>\n",
              "      <td>0.841667</td>\n",
              "      <td>0.731884</td>\n",
              "    </tr>\n",
              "    <tr>\n",
              "      <th>13</th>\n",
              "      <td>0.6</td>\n",
              "      <td>0.8</td>\n",
              "      <td>0.9312</td>\n",
              "      <td>0.601190</td>\n",
              "      <td>0.841667</td>\n",
              "      <td>0.701389</td>\n",
              "    </tr>\n",
              "    <tr>\n",
              "      <th>6</th>\n",
              "      <td>0.4</td>\n",
              "      <td>0.5</td>\n",
              "      <td>0.9408</td>\n",
              "      <td>0.649351</td>\n",
              "      <td>0.833333</td>\n",
              "      <td>0.729927</td>\n",
              "    </tr>\n",
              "    <tr>\n",
              "      <th>10</th>\n",
              "      <td>0.5</td>\n",
              "      <td>0.6</td>\n",
              "      <td>0.9400</td>\n",
              "      <td>0.645161</td>\n",
              "      <td>0.833333</td>\n",
              "      <td>0.727273</td>\n",
              "    </tr>\n",
              "    <tr>\n",
              "      <th>7</th>\n",
              "      <td>0.4</td>\n",
              "      <td>0.6</td>\n",
              "      <td>0.9416</td>\n",
              "      <td>0.655629</td>\n",
              "      <td>0.825000</td>\n",
              "      <td>0.730627</td>\n",
              "    </tr>\n",
              "    <tr>\n",
              "      <th>14</th>\n",
              "      <td>0.8</td>\n",
              "      <td>0.8</td>\n",
              "      <td>0.9328</td>\n",
              "      <td>0.612500</td>\n",
              "      <td>0.816667</td>\n",
              "      <td>0.700000</td>\n",
              "    </tr>\n",
              "    <tr>\n",
              "      <th>12</th>\n",
              "      <td>0.6</td>\n",
              "      <td>0.6</td>\n",
              "      <td>0.9424</td>\n",
              "      <td>0.666667</td>\n",
              "      <td>0.800000</td>\n",
              "      <td>0.727273</td>\n",
              "    </tr>\n",
              "    <tr>\n",
              "      <th>5</th>\n",
              "      <td>0.4</td>\n",
              "      <td>0.4</td>\n",
              "      <td>0.9472</td>\n",
              "      <td>0.701493</td>\n",
              "      <td>0.783333</td>\n",
              "      <td>0.740157</td>\n",
              "    </tr>\n",
              "    <tr>\n",
              "      <th>9</th>\n",
              "      <td>0.5</td>\n",
              "      <td>0.5</td>\n",
              "      <td>0.9432</td>\n",
              "      <td>0.676259</td>\n",
              "      <td>0.783333</td>\n",
              "      <td>0.725869</td>\n",
              "    </tr>\n",
              "    <tr>\n",
              "      <th>0</th>\n",
              "      <td>0.2</td>\n",
              "      <td>0.2</td>\n",
              "      <td>0.9560</td>\n",
              "      <td>0.768595</td>\n",
              "      <td>0.775000</td>\n",
              "      <td>0.771784</td>\n",
              "    </tr>\n",
              "  </tbody>\n",
              "</table>\n",
              "</div>\n",
              "      <button class=\"colab-df-convert\" onclick=\"convertToInteractive('df-219cec62-986c-461a-90ea-38e39e6ba85c')\"\n",
              "              title=\"Convert this dataframe to an interactive table.\"\n",
              "              style=\"display:none;\">\n",
              "        \n",
              "  <svg xmlns=\"http://www.w3.org/2000/svg\" height=\"24px\"viewBox=\"0 0 24 24\"\n",
              "       width=\"24px\">\n",
              "    <path d=\"M0 0h24v24H0V0z\" fill=\"none\"/>\n",
              "    <path d=\"M18.56 5.44l.94 2.06.94-2.06 2.06-.94-2.06-.94-.94-2.06-.94 2.06-2.06.94zm-11 1L8.5 8.5l.94-2.06 2.06-.94-2.06-.94L8.5 2.5l-.94 2.06-2.06.94zm10 10l.94 2.06.94-2.06 2.06-.94-2.06-.94-.94-2.06-.94 2.06-2.06.94z\"/><path d=\"M17.41 7.96l-1.37-1.37c-.4-.4-.92-.59-1.43-.59-.52 0-1.04.2-1.43.59L10.3 9.45l-7.72 7.72c-.78.78-.78 2.05 0 2.83L4 21.41c.39.39.9.59 1.41.59.51 0 1.02-.2 1.41-.59l7.78-7.78 2.81-2.81c.8-.78.8-2.07 0-2.86zM5.41 20L4 18.59l7.72-7.72 1.47 1.35L5.41 20z\"/>\n",
              "  </svg>\n",
              "      </button>\n",
              "      \n",
              "  <style>\n",
              "    .colab-df-container {\n",
              "      display:flex;\n",
              "      flex-wrap:wrap;\n",
              "      gap: 12px;\n",
              "    }\n",
              "\n",
              "    .colab-df-convert {\n",
              "      background-color: #E8F0FE;\n",
              "      border: none;\n",
              "      border-radius: 50%;\n",
              "      cursor: pointer;\n",
              "      display: none;\n",
              "      fill: #1967D2;\n",
              "      height: 32px;\n",
              "      padding: 0 0 0 0;\n",
              "      width: 32px;\n",
              "    }\n",
              "\n",
              "    .colab-df-convert:hover {\n",
              "      background-color: #E2EBFA;\n",
              "      box-shadow: 0px 1px 2px rgba(60, 64, 67, 0.3), 0px 1px 3px 1px rgba(60, 64, 67, 0.15);\n",
              "      fill: #174EA6;\n",
              "    }\n",
              "\n",
              "    [theme=dark] .colab-df-convert {\n",
              "      background-color: #3B4455;\n",
              "      fill: #D2E3FC;\n",
              "    }\n",
              "\n",
              "    [theme=dark] .colab-df-convert:hover {\n",
              "      background-color: #434B5C;\n",
              "      box-shadow: 0px 1px 3px 1px rgba(0, 0, 0, 0.15);\n",
              "      filter: drop-shadow(0px 1px 2px rgba(0, 0, 0, 0.3));\n",
              "      fill: #FFFFFF;\n",
              "    }\n",
              "  </style>\n",
              "\n",
              "      <script>\n",
              "        const buttonEl =\n",
              "          document.querySelector('#df-219cec62-986c-461a-90ea-38e39e6ba85c button.colab-df-convert');\n",
              "        buttonEl.style.display =\n",
              "          google.colab.kernel.accessAllowed ? 'block' : 'none';\n",
              "\n",
              "        async function convertToInteractive(key) {\n",
              "          const element = document.querySelector('#df-219cec62-986c-461a-90ea-38e39e6ba85c');\n",
              "          const dataTable =\n",
              "            await google.colab.kernel.invokeFunction('convertToInteractive',\n",
              "                                                     [key], {});\n",
              "          if (!dataTable) return;\n",
              "\n",
              "          const docLinkHtml = 'Like what you see? Visit the ' +\n",
              "            '<a target=\"_blank\" href=https://colab.research.google.com/notebooks/data_table.ipynb>data table notebook</a>'\n",
              "            + ' to learn more about interactive tables.';\n",
              "          element.innerHTML = '';\n",
              "          dataTable['output_type'] = 'display_data';\n",
              "          await google.colab.output.renderOutput(dataTable, element);\n",
              "          const docLink = document.createElement('div');\n",
              "          docLink.innerHTML = docLinkHtml;\n",
              "          element.appendChild(docLink);\n",
              "        }\n",
              "      </script>\n",
              "    </div>\n",
              "  </div>\n",
              "  "
            ]
          },
          "metadata": {},
          "execution_count": 91
        }
      ],
      "source": [
        "#cari koefisien over dan under yang terbaik terhadap F1 score\n",
        "df_result.sort_values(['recall'], ascending=False)\n"
      ]
    },
    {
      "cell_type": "markdown",
      "source": [
        "The model result : \n",
        "\n",
        "- The highest`precision`,  over coef = 0.2, under coef = 0.2\n",
        "- The highest `recall`, over coef = 0.2, under coef = 0.6\n",
        "- The highest `f1`, over coef = 0.2, under coef = 0.2"
      ],
      "metadata": {
        "id": "kfb7jxgRcC7y"
      },
      "id": "kfb7jxgRcC7y"
    }
  ],
  "metadata": {
    "kernelspec": {
      "display_name": "Python 3",
      "language": "python",
      "name": "python3"
    },
    "language_info": {
      "codemirror_mode": {
        "name": "ipython",
        "version": 3
      },
      "file_extension": ".py",
      "mimetype": "text/x-python",
      "name": "python",
      "nbconvert_exporter": "python",
      "pygments_lexer": "ipython3",
      "version": "3.7.0"
    },
    "colab": {
      "provenance": [],
      "include_colab_link": true
    }
  },
  "nbformat": 4,
  "nbformat_minor": 5
}